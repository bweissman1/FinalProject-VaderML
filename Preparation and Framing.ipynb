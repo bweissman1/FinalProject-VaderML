{
 "cells": [
  {
   "cell_type": "markdown",
   "metadata": {},
   "source": [
    "# Preparation and Framing Document \n",
    "\n",
    "## Background and context\n",
    "\n",
    "In this project, we will utilize a web scraper, a sentiment analyzer, a 3D graphing module, and a k-Nearest Neighbors classification algorithm to explore and classify political sentiment by media outlet.\n",
    "\n",
    "Our end deliverable will be a program that receives a URL from the user, visits that website, scrapes the article from the website, performs a sentiment analysis on the text, and graphs a point with (positive, negative, and neutral for the values x,y, and z values. \n",
    "The program will display this 3D point amongst all the training data points so that the user may see how the article compares. In addition, it will display a single number to the user, the compound value.\n",
    "\n",
    "## Key questions \n",
    "\n",
    "We are trying to decide whether to use sentiment analysis, word frequency, or another metric to classify and identify media bias, or the lack thereof. Which of these would be the most interesting?\n",
    "\n",
    "If we use sentiment, how should we anchor our data? How do we determine what is bias, and what is justified negativity (or positivity)? \n",
    "\n",
    "How should represent the significance of the compound value? \n",
    "\n",
    "Color, graphing along a continuum, etc?\n",
    "\n",
    "## Agenda for technical review session \n",
    "\n",
    "Project Scope\n",
    "\n",
    "Strategy, Research, Implementation\n",
    "\n",
    "Software Process/Architecture\n",
    "\n",
    "Risks/Questions\n",
    "\n",
    "## Feedback form \n",
    "www.tinyurl.com/vadersd18\n"
   ]
  },
  {
   "cell_type": "code",
   "execution_count": null,
   "metadata": {
    "collapsed": true
   },
   "outputs": [],
   "source": []
  }
 ],
 "metadata": {
  "kernelspec": {
   "display_name": "Python 3",
   "language": "python",
   "name": "python3"
  },
  "language_info": {
   "codemirror_mode": {
    "name": "ipython",
    "version": 3
   },
   "file_extension": ".py",
   "mimetype": "text/x-python",
   "name": "python",
   "nbconvert_exporter": "python",
   "pygments_lexer": "ipython3",
   "version": "3.6.3"
  }
 },
 "nbformat": 4,
 "nbformat_minor": 2
}
